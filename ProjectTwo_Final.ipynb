{
 "cells": [
  {
   "cell_type": "markdown",
   "metadata": {},
   "source": [
    "# Treasure Hunt Game Notebook\n",
    "\n",
    "## Read and Review Your Starter Code\n",
    "The theme of this project is a popular treasure hunt game in which the player needs to find the treasure before the pirate does. While you will not be developing the entire game, you will write the part of the game that represents the intelligent agent, which is a pirate in this case. The pirate will try to find the optimal path to the treasure using deep Q-learning. \n",
    "\n",
    "You have been provided with two Python classes and this notebook to help you with this assignment. The first class, TreasureMaze.py, represents the environment, which includes a maze object defined as a matrix. The second class, GameExperience.py, stores the episodes – that is, all the states that come in between the initial state and the terminal state. This is later used by the agent for learning by experience, called \"exploration\". This notebook shows how to play a game. Your task is to complete the deep Q-learning implementation for which a skeleton implementation has been provided. The code blocks you will need to complete has #TODO as a header.\n",
    "\n",
    "First, read and review the next few code and instruction blocks to understand the code that you have been given."
   ]
  },
  {
   "cell_type": "code",
   "execution_count": 1,
   "metadata": {},
   "outputs": [
    {
     "name": "stderr",
     "output_type": "stream",
     "text": [
      "Using TensorFlow backend.\n"
     ]
    }
   ],
   "source": [
    "from __future__ import print_function\n",
    "import os, sys, time, datetime, json, random\n",
    "import numpy as np\n",
    "from keras.models import Sequential\n",
    "from keras.layers.core import Dense, Activation\n",
    "from keras.optimizers import SGD , Adam, RMSprop\n",
    "from keras.layers.advanced_activations import PReLU\n",
    "import matplotlib.pyplot as plt\n",
    "from TreasureMaze import TreasureMaze\n",
    "from GameExperience import GameExperience\n",
    "%matplotlib inline"
   ]
  },
  {
   "cell_type": "markdown",
   "metadata": {},
   "source": [
    "The following code block contains an 8x8 matrix that will be used as a maze object:"
   ]
  },
  {
   "cell_type": "code",
   "execution_count": 2,
   "metadata": {},
   "outputs": [],
   "source": [
    "maze = np.array([\n",
    "    [ 1.,  0.,  1.,  1.,  1.,  1.,  1.,  1.],\n",
    "    [ 1.,  0.,  1.,  1.,  1.,  0.,  1.,  1.],\n",
    "    [ 1.,  1.,  1.,  1.,  0.,  1.,  0.,  1.],\n",
    "    [ 1.,  1.,  1.,  0.,  1.,  1.,  1.,  1.],\n",
    "    [ 1.,  1.,  0.,  1.,  1.,  1.,  1.,  1.],\n",
    "    [ 1.,  1.,  1.,  0.,  1.,  0.,  0.,  0.],\n",
    "    [ 1.,  1.,  1.,  0.,  1.,  1.,  1.,  1.],\n",
    "    [ 1.,  1.,  1.,  1.,  0.,  1.,  1.,  1.]\n",
    "])"
   ]
  },
  {
   "cell_type": "markdown",
   "metadata": {},
   "source": [
    "This helper function allows a visual representation of the maze object:"
   ]
  },
  {
   "cell_type": "code",
   "execution_count": 3,
   "metadata": {},
   "outputs": [],
   "source": [
    "def show(qmaze):\n",
    "    plt.grid('on')\n",
    "    nrows, ncols = qmaze.maze.shape\n",
    "    ax = plt.gca()\n",
    "    ax.set_xticks(np.arange(0.5, nrows, 1))\n",
    "    ax.set_yticks(np.arange(0.5, ncols, 1))\n",
    "    ax.set_xticklabels([])\n",
    "    ax.set_yticklabels([])\n",
    "    canvas = np.copy(qmaze.maze)\n",
    "    for row,col in qmaze.visited:\n",
    "        canvas[row,col] = 0.6\n",
    "    pirate_row, pirate_col, _ = qmaze.state\n",
    "    canvas[pirate_row, pirate_col] = 0.3   # pirate cell\n",
    "    canvas[nrows-1, ncols-1] = 0.9 # treasure cell\n",
    "    img = plt.imshow(canvas, interpolation='none', cmap='gray')\n",
    "    return img"
   ]
  },
  {
   "cell_type": "markdown",
   "metadata": {},
   "source": [
    "The pirate agent can move in four directions: left, right, up, and down. \n",
    "\n",
    "While the agent primarily learns by experience through exploitation, often, the agent can choose to explore the environment to find previously undiscovered paths. This is called \"exploration\" and is defined by epsilon. This value is typically a lower value such as 0.1, which means for every ten attempts, the agent will attempt to learn by experience nine times and will randomly explore a new path one time. You are encouraged to try various values for the exploration factor and see how the algorithm performs."
   ]
  },
  {
   "cell_type": "code",
   "execution_count": 4,
   "metadata": {},
   "outputs": [],
   "source": [
    "LEFT = 0\n",
    "UP = 1\n",
    "RIGHT = 2\n",
    "DOWN = 3\n",
    "\n",
    "\n",
    "# Exploration factor\n",
    "epsilon = 0.1\n",
    "\n",
    "# Actions dictionary\n",
    "actions_dict = {\n",
    "    LEFT: 'left',\n",
    "    UP: 'up',\n",
    "    RIGHT: 'right',\n",
    "    DOWN: 'down',\n",
    "}\n",
    "\n",
    "num_actions = len(actions_dict)\n"
   ]
  },
  {
   "cell_type": "markdown",
   "metadata": {},
   "source": [
    "The sample code block and output below show creating a maze object and performing one action (DOWN), which returns the reward. The resulting updated environment is visualized."
   ]
  },
  {
   "cell_type": "code",
   "execution_count": 5,
   "metadata": {},
   "outputs": [
    {
     "name": "stdout",
     "output_type": "stream",
     "text": [
      "reward= -0.04\n"
     ]
    },
    {
     "data": {
      "text/plain": [
       "<matplotlib.image.AxesImage at 0x2529f5c4088>"
      ]
     },
     "execution_count": 5,
     "metadata": {},
     "output_type": "execute_result"
    },
    {
     "data": {
      "image/png": "[encoded data removed]",
      "text/plain": [
       "<Figure size 432x288 with 1 Axes>"
      ]
     },
     "metadata": {
      "needs_background": "light"
     },
     "output_type": "display_data"
    }
   ],
   "source": [
    "qmaze = TreasureMaze(maze)\n",
    "canvas, reward, game_over = qmaze.act(DOWN)\n",
    "print(\"reward=\", reward)\n",
    "show(qmaze)"
   ]
  },
  {
   "cell_type": "markdown",
   "metadata": {},
   "source": [
    "This function simulates a full game based on the provided trained model. The other parameters include the TreasureMaze object and the starting position of the pirate."
   ]
  },
  {
   "cell_type": "code",
   "execution_count": 6,
   "metadata": {},
   "outputs": [],
   "source": [
    "def play_game(model, qmaze, pirate_cell):\n",
    "    qmaze.reset(pirate_cell)\n",
    "    envstate = qmaze.observe()\n",
    "    while True:\n",
    "        prev_envstate = envstate\n",
    "        # get next action\n",
    "        q = model.predict(prev_envstate)\n",
    "        action = np.argmax(q[0])\n",
    "\n",
    "        # apply action, get rewards and new state\n",
    "        envstate, reward, game_status = qmaze.act(action)\n",
    "        if game_status == 'win':\n",
    "            return True\n",
    "        elif game_status == 'lose':\n",
    "            return False"
   ]
  },
  {
   "cell_type": "markdown",
   "metadata": {},
   "source": [
    "This function helps you to determine whether the pirate can win any game at all. If your maze is not well designed, the pirate may not win any game at all. In this case, your training would not yield any result. The provided maze in this notebook ensures that there is a path to win and you can run this method to check."
   ]
  },
  {
   "cell_type": "code",
   "execution_count": 7,
   "metadata": {},
   "outputs": [],
   "source": [
    "def completion_check(model, qmaze):\n",
    "    for cell in qmaze.free_cells:\n",
    "        if not qmaze.valid_actions(cell):\n",
    "            return False\n",
    "        if not play_game(model, qmaze, cell):\n",
    "            return False\n",
    "    return True"
   ]
  },
  {
   "cell_type": "markdown",
   "metadata": {},
   "source": [
    "The code you have been given in this block will build the neural network model. Review the code and note the number of layers, as well as the activation, optimizer, and loss functions that are used to train the model."
   ]
  },
  {
   "cell_type": "code",
   "execution_count": 8,
   "metadata": {},
   "outputs": [],
   "source": [
    "def build_model(maze):\n",
    "    model = Sequential()\n",
    "    model.add(Dense(maze.size, input_shape=(maze.size,)))\n",
    "    model.add(PReLU())\n",
    "    model.add(Dense(maze.size))\n",
    "    model.add(PReLU())\n",
    "    model.add(Dense(num_actions))\n",
    "    model.compile(optimizer='adam', loss='mse')\n",
    "    return model"
   ]
  },
  {
   "cell_type": "markdown",
   "metadata": {},
   "source": [
    "# #TODO: Complete the Q-Training Algorithm Code Block\n",
    "\n",
    "This is your deep Q-learning implementation. The goal of your deep Q-learning implementation is to find the best possible navigation sequence that results in reaching the treasure cell while maximizing the reward. In your implementation, you need to determine the optimal number of epochs to achieve a 100% win rate.\n",
    "\n",
    "You will need to complete the section starting with #pseudocode. The pseudocode has been included for you."
   ]
  },
  {
   "cell_type": "code",
   "execution_count": 9,
   "metadata": {},
   "outputs": [],
   "source": [
    "def qtrain(model, maze, **opt):\n",
    "    # exploration factor\n",
    "    global epsilon \n",
    "\n",
    "    # number of epochs\n",
    "    n_epoch = opt.get('n_epoch', 3000)\n",
    "\n",
    "    # maximum memory to store episodes\n",
    "    max_memory = opt.get('max_memory', 1000)\n",
    "\n",
    "    # maximum data size for training\n",
    "    data_size = opt.get('data_size', 50)\n",
    "\n",
    "    # start time\n",
    "    start_time = datetime.datetime.now()\n",
    "\n",
    "    # Construct environment/game from numpy array: maze (see above)\n",
    "    qmaze = TreasureMaze(maze)\n",
    "\n",
    "    # Initialize experience replay object\n",
    "    experience = GameExperience(model, max_memory=max_memory)\n",
    "    \n",
    "    win_history = []   # history of win/lose game\n",
    "    hsize = qmaze.maze.size // 2   # history window size\n",
    "    win_rate = 0.0\n",
    "    \n",
    "    \n",
    "    \n",
    "#-----------------------------------------------------------------------------\n",
    "#-----------------------------------------------------------------------------\n",
    "#-----------------------------------------------------------------------------\n",
    "    # For each epoch:\n",
    "    for epoch in range(n_epoch):\n",
    "#---------------------------------------------------\n",
    "        # Randomly select free cell to start agent in.\n",
    "        agent_cell = np.random.randint(0, high=7, size=2)\n",
    "\n",
    "        # Reset maze with agent set to above position\n",
    "        qmaze.reset(agent_cell)\n",
    "\n",
    "        # Observe current state of environment\n",
    "        envstate = qmaze.observe()\n",
    "\n",
    "        loss = 0\n",
    "        n_episodes = 0\n",
    "#---------------------------------------------------\n",
    "        # While state is not game over:\n",
    "        while qmaze.game_status() == 'not_over':\n",
    "\n",
    "            # Store current state before taking action\n",
    "            previous_envstate = envstate\n",
    "            valid_actions = qmaze.valid_actions()\n",
    "#---------------------------------------------------\n",
    "            # Get next action\n",
    "            if np.random.rand() < epsilon:\n",
    "                action = random.choice(valid_actions)\n",
    "            else:\n",
    "                action = np.argmax(experience.predict(envstate))\n",
    "#---------------------------------------------------\n",
    "            # Take the action\n",
    "            envstate, reward, game_status = qmaze.act(action)\n",
    "\n",
    "            # Increase episode count because taking an action makes an episode\n",
    "            n_episodes += 1\n",
    "\n",
    "            # Store episode in Experience replay object\n",
    "            episode = [previous_envstate, action, reward, envstate, game_status]\n",
    "            experience.remember(episode)\n",
    "\n",
    "            # Train neural network model and evaluate loss\n",
    "            inputs, targets = experience.get_data()\n",
    "            history = model.fit(inputs, targets, epochs=8, batch_size=24, verbose=0)\n",
    "            loss = model.evaluate(inputs, targets, verbose=0)\n",
    "\n",
    "#---------------------------------------------------\n",
    "            # if pirate agent won game\n",
    "            if episode [4] == 'win':\n",
    "                win_history.append(1)\n",
    "                win_rate = sum(win_history) / len(win_history)\n",
    "                break\n",
    "                \n",
    "            # if pirate agent lost game\n",
    "            elif episode[4] == 'lose':\n",
    "                win_history.append(0)\n",
    "                win_rate = sum(win_history) / len(win_history)\n",
    "                break\n",
    "                \n",
    "            # else game is not over\n",
    "#---------------------------------------------------\n",
    "        # If win rate is above threshold and model passes completion check, that's your epoch.\n",
    "        if win_rate > epsilon:\n",
    "            if completion_check(model, qmaze) == True:\n",
    "                print('completion_check() success!')\n",
    "#-----------------------------------------------------------------------------\n",
    "#-----------------------------------------------------------------------------\n",
    "#-----------------------------------------------------------------------------\n",
    "        \n",
    "    \n",
    "    \n",
    "        #Print the epoch, loss, episodes, win count, and win rate for each epoch\n",
    "        dt = datetime.datetime.now() - start_time\n",
    "        t = format_time(dt.total_seconds())\n",
    "        template = \"Epoch: {:03d}/{:d} | Loss: {:.4f} | Episodes: {:d} | Win count: {:d} | Win rate: {:.3f} | time: {}\"\n",
    "        print(template.format(epoch+1, n_epoch, loss, n_episodes, sum(win_history), win_rate, t))\n",
    "        # We simply check if training has exhausted all free cells and if in all\n",
    "        # cases the agent won.\n",
    "        if win_rate > 0.9 : epsilon = 0.05\n",
    "        if sum(win_history[-hsize:]) == hsize and completion_check(model, qmaze):\n",
    "            print(\"Reached 100%% win rate at epoch: %d\" % (epoch,))\n",
    "            break\n",
    "\n",
    "    \n",
    "    # Determine the total time for training\n",
    "    dt = datetime.datetime.now() - start_time\n",
    "    seconds = dt.total_seconds()\n",
    "    t = format_time(seconds)\n",
    "\n",
    "    print(\"n_epoch: %d, max_mem: %d, data: %d, time: %s\" % (epoch, max_memory, data_size, t))\n",
    "    return seconds\n",
    "\n",
    "# This is a small utility for printing readable time strings:\n",
    "def format_time(seconds):\n",
    "    if seconds < 400:\n",
    "        s = float(seconds)\n",
    "        return \"%.1f seconds\" % (s,)\n",
    "    elif seconds < 4000:\n",
    "        m = seconds / 60.0\n",
    "        return \"%.2f minutes\" % (m,)\n",
    "    else:\n",
    "        h = seconds / 3600.0\n",
    "        return \"%.2f hours\" % (h,)"
   ]
  },
  {
   "cell_type": "markdown",
   "metadata": {},
   "source": [
    "## Test Your Model\n",
    "\n",
    "Now we will start testing the deep Q-learning implementation. To begin, select **Cell**, then **Run All** from the menu bar. This will run your notebook. As it runs, you should see output begin to appear beneath the next few cells. The code below creates an instance of TreasureMaze."
   ]
  },
  {
   "cell_type": "code",
   "execution_count": 10,
   "metadata": {},
   "outputs": [
    {
     "data": {
      "text/plain": [
       "<matplotlib.image.AxesImage at 0x252a0c57ac8>"
      ]
     },
     "execution_count": 10,
     "metadata": {},
     "output_type": "execute_result"
    },
    {
     "data": {
      "image/png": "[encoded data removed]",
      "text/plain": [
       "<Figure size 432x288 with 1 Axes>"
      ]
     },
     "metadata": {
      "needs_background": "light"
     },
     "output_type": "display_data"
    }
   ],
   "source": [
    "qmaze = TreasureMaze(maze)\n",
    "show(qmaze)"
   ]
  },
  {
   "cell_type": "markdown",
   "metadata": {},
   "source": [
    "In the next code block, you will build your model and train it using deep Q-learning. Note: This step takes several minutes to fully run."
   ]
  },
  {
   "cell_type": "code",
   "execution_count": 11,
   "metadata": {
    "scrolled": true
   },
   "outputs": [
    {
     "name": "stdout",
     "output_type": "stream",
     "text": [
      "Epoch: 001/3000 | Loss: 0.0000 | Episodes: 139 | Win count: 0 | Win rate: 0.000 | time: 9.6 seconds\n",
      "Epoch: 002/3000 | Loss: 0.0002 | Episodes: 143 | Win count: 0 | Win rate: 0.000 | time: 16.9 seconds\n",
      "Epoch: 003/3000 | Loss: 0.0001 | Episodes: 147 | Win count: 0 | Win rate: 0.000 | time: 24.3 seconds\n",
      "Epoch: 004/3000 | Loss: 0.0016 | Episodes: 141 | Win count: 0 | Win rate: 0.000 | time: 31.4 seconds\n",
      "Epoch: 005/3000 | Loss: 0.0008 | Episodes: 130 | Win count: 0 | Win rate: 0.000 | time: 37.7 seconds\n",
      "Epoch: 006/3000 | Loss: 0.0012 | Episodes: 138 | Win count: 0 | Win rate: 0.000 | time: 43.7 seconds\n",
      "Epoch: 007/3000 | Loss: 0.0000 | Episodes: 67 | Win count: 1 | Win rate: 0.143 | time: 46.8 seconds\n",
      "Epoch: 008/3000 | Loss: 0.0003 | Episodes: 10 | Win count: 2 | Win rate: 0.250 | time: 47.4 seconds\n",
      "Epoch: 009/3000 | Loss: 0.0003 | Episodes: 139 | Win count: 2 | Win rate: 0.222 | time: 54.3 seconds\n",
      "Epoch: 010/3000 | Loss: 0.0002 | Episodes: 138 | Win count: 2 | Win rate: 0.200 | time: 60.1 seconds\n",
      "Epoch: 011/3000 | Loss: 0.0004 | Episodes: 139 | Win count: 2 | Win rate: 0.182 | time: 66.3 seconds\n",
      "Epoch: 012/3000 | Loss: 0.0000 | Episodes: 139 | Win count: 2 | Win rate: 0.167 | time: 72.8 seconds\n",
      "Epoch: 013/3000 | Loss: 0.0000 | Episodes: 90 | Win count: 3 | Win rate: 0.231 | time: 77.1 seconds\n",
      "Epoch: 014/3000 | Loss: 0.0005 | Episodes: 141 | Win count: 3 | Win rate: 0.214 | time: 84.0 seconds\n",
      "Epoch: 015/3000 | Loss: 0.0003 | Episodes: 36 | Win count: 4 | Win rate: 0.267 | time: 85.6 seconds\n",
      "Epoch: 016/3000 | Loss: 0.0004 | Episodes: 139 | Win count: 4 | Win rate: 0.250 | time: 91.5 seconds\n",
      "Epoch: 017/3000 | Loss: 0.0009 | Episodes: 102 | Win count: 5 | Win rate: 0.294 | time: 95.7 seconds\n",
      "Epoch: 018/3000 | Loss: 0.0016 | Episodes: 139 | Win count: 5 | Win rate: 0.278 | time: 101.5 seconds\n",
      "Epoch: 019/3000 | Loss: 0.0010 | Episodes: 9 | Win count: 6 | Win rate: 0.316 | time: 102.0 seconds\n",
      "Epoch: 020/3000 | Loss: 0.0003 | Episodes: 5 | Win count: 7 | Win rate: 0.350 | time: 102.3 seconds\n",
      "Epoch: 021/3000 | Loss: 0.0009 | Episodes: 142 | Win count: 7 | Win rate: 0.333 | time: 108.5 seconds\n",
      "Epoch: 022/3000 | Loss: 0.0016 | Episodes: 154 | Win count: 7 | Win rate: 0.318 | time: 115.9 seconds\n",
      "Epoch: 023/3000 | Loss: 0.0003 | Episodes: 12 | Win count: 8 | Win rate: 0.348 | time: 116.6 seconds\n",
      "Epoch: 024/3000 | Loss: 0.0009 | Episodes: 155 | Win count: 9 | Win rate: 0.375 | time: 123.9 seconds\n",
      "Epoch: 025/3000 | Loss: 0.0017 | Episodes: 48 | Win count: 10 | Win rate: 0.400 | time: 126.1 seconds\n",
      "Epoch: 026/3000 | Loss: 0.0011 | Episodes: 12 | Win count: 11 | Win rate: 0.423 | time: 126.6 seconds\n",
      "Epoch: 027/3000 | Loss: 0.0006 | Episodes: 147 | Win count: 11 | Win rate: 0.407 | time: 133.0 seconds\n",
      "Epoch: 028/3000 | Loss: 0.0015 | Episodes: 145 | Win count: 11 | Win rate: 0.393 | time: 139.6 seconds\n",
      "Epoch: 029/3000 | Loss: 0.0021 | Episodes: 142 | Win count: 11 | Win rate: 0.379 | time: 146.5 seconds\n",
      "Epoch: 030/3000 | Loss: 0.0013 | Episodes: 9 | Win count: 12 | Win rate: 0.400 | time: 147.3 seconds\n",
      "Epoch: 031/3000 | Loss: 0.0004 | Episodes: 144 | Win count: 12 | Win rate: 0.387 | time: 154.5 seconds\n",
      "Epoch: 032/3000 | Loss: 0.0007 | Episodes: 144 | Win count: 12 | Win rate: 0.375 | time: 161.3 seconds\n",
      "Epoch: 033/3000 | Loss: 0.0002 | Episodes: 144 | Win count: 12 | Win rate: 0.364 | time: 167.5 seconds\n",
      "Epoch: 034/3000 | Loss: 0.0004 | Episodes: 141 | Win count: 12 | Win rate: 0.353 | time: 173.6 seconds\n",
      "Epoch: 035/3000 | Loss: 0.0008 | Episodes: 138 | Win count: 12 | Win rate: 0.343 | time: 179.6 seconds\n",
      "Epoch: 036/3000 | Loss: 0.0005 | Episodes: 142 | Win count: 12 | Win rate: 0.333 | time: 186.6 seconds\n",
      "Epoch: 037/3000 | Loss: 0.0001 | Episodes: 125 | Win count: 13 | Win rate: 0.351 | time: 192.5 seconds\n",
      "Epoch: 038/3000 | Loss: 0.0013 | Episodes: 148 | Win count: 13 | Win rate: 0.342 | time: 199.6 seconds\n",
      "Epoch: 039/3000 | Loss: 0.0024 | Episodes: 146 | Win count: 13 | Win rate: 0.333 | time: 206.2 seconds\n",
      "Epoch: 040/3000 | Loss: 0.0012 | Episodes: 12 | Win count: 14 | Win rate: 0.350 | time: 206.8 seconds\n",
      "Epoch: 041/3000 | Loss: 0.0012 | Episodes: 150 | Win count: 14 | Win rate: 0.341 | time: 214.0 seconds\n",
      "Epoch: 042/3000 | Loss: 0.0006 | Episodes: 41 | Win count: 15 | Win rate: 0.357 | time: 216.3 seconds\n",
      "Epoch: 043/3000 | Loss: 0.0015 | Episodes: 130 | Win count: 16 | Win rate: 0.372 | time: 222.5 seconds\n",
      "Epoch: 044/3000 | Loss: 0.0007 | Episodes: 143 | Win count: 16 | Win rate: 0.364 | time: 227.6 seconds\n",
      "Epoch: 045/3000 | Loss: 0.0012 | Episodes: 21 | Win count: 17 | Win rate: 0.378 | time: 228.6 seconds\n",
      "Epoch: 046/3000 | Loss: 0.0021 | Episodes: 147 | Win count: 17 | Win rate: 0.370 | time: 233.9 seconds\n",
      "Epoch: 047/3000 | Loss: 0.0020 | Episodes: 86 | Win count: 18 | Win rate: 0.383 | time: 237.2 seconds\n",
      "Epoch: 048/3000 | Loss: 0.0022 | Episodes: 8 | Win count: 19 | Win rate: 0.396 | time: 237.6 seconds\n",
      "Epoch: 049/3000 | Loss: 0.0010 | Episodes: 39 | Win count: 20 | Win rate: 0.408 | time: 239.4 seconds\n",
      "Epoch: 050/3000 | Loss: 0.0008 | Episodes: 16 | Win count: 21 | Win rate: 0.420 | time: 240.3 seconds\n",
      "Epoch: 051/3000 | Loss: 0.0003 | Episodes: 32 | Win count: 22 | Win rate: 0.431 | time: 241.8 seconds\n",
      "Epoch: 052/3000 | Loss: 0.0008 | Episodes: 2 | Win count: 23 | Win rate: 0.442 | time: 242.0 seconds\n",
      "Epoch: 053/3000 | Loss: 0.0029 | Episodes: 146 | Win count: 23 | Win rate: 0.434 | time: 248.3 seconds\n",
      "Epoch: 054/3000 | Loss: 0.0011 | Episodes: 151 | Win count: 23 | Win rate: 0.426 | time: 254.5 seconds\n",
      "Epoch: 055/3000 | Loss: 0.0011 | Episodes: 140 | Win count: 23 | Win rate: 0.418 | time: 261.2 seconds\n",
      "Epoch: 056/3000 | Loss: 0.0010 | Episodes: 24 | Win count: 24 | Win rate: 0.429 | time: 262.1 seconds\n",
      "Epoch: 057/3000 | Loss: 0.0005 | Episodes: 139 | Win count: 24 | Win rate: 0.421 | time: 267.1 seconds\n",
      "Epoch: 058/3000 | Loss: 0.0012 | Episodes: 140 | Win count: 24 | Win rate: 0.414 | time: 272.0 seconds\n",
      "Epoch: 059/3000 | Loss: 0.0010 | Episodes: 10 | Win count: 25 | Win rate: 0.424 | time: 272.5 seconds\n",
      "Epoch: 060/3000 | Loss: 0.0006 | Episodes: 48 | Win count: 26 | Win rate: 0.433 | time: 274.4 seconds\n",
      "Epoch: 061/3000 | Loss: 0.0005 | Episodes: 141 | Win count: 26 | Win rate: 0.426 | time: 279.0 seconds\n",
      "Epoch: 062/3000 | Loss: 0.0007 | Episodes: 11 | Win count: 27 | Win rate: 0.435 | time: 279.4 seconds\n",
      "Epoch: 063/3000 | Loss: 0.0004 | Episodes: 47 | Win count: 28 | Win rate: 0.444 | time: 280.8 seconds\n",
      "Epoch: 064/3000 | Loss: 0.0019 | Episodes: 134 | Win count: 28 | Win rate: 0.438 | time: 284.7 seconds\n",
      "Epoch: 065/3000 | Loss: 0.0014 | Episodes: 134 | Win count: 29 | Win rate: 0.446 | time: 288.5 seconds\n",
      "Epoch: 066/3000 | Loss: 0.0022 | Episodes: 40 | Win count: 30 | Win rate: 0.455 | time: 289.7 seconds\n",
      "Epoch: 067/3000 | Loss: 0.0006 | Episodes: 14 | Win count: 31 | Win rate: 0.463 | time: 290.1 seconds\n",
      "Epoch: 068/3000 | Loss: 0.0015 | Episodes: 5 | Win count: 32 | Win rate: 0.471 | time: 290.4 seconds\n",
      "Epoch: 069/3000 | Loss: 0.0007 | Episodes: 159 | Win count: 32 | Win rate: 0.464 | time: 294.7 seconds\n",
      "Epoch: 070/3000 | Loss: 0.0002 | Episodes: 4 | Win count: 33 | Win rate: 0.471 | time: 294.9 seconds\n",
      "Epoch: 071/3000 | Loss: 0.0009 | Episodes: 134 | Win count: 34 | Win rate: 0.479 | time: 298.6 seconds\n",
      "Epoch: 072/3000 | Loss: 0.0012 | Episodes: 18 | Win count: 35 | Win rate: 0.486 | time: 299.2 seconds\n",
      "Epoch: 073/3000 | Loss: 0.0012 | Episodes: 45 | Win count: 36 | Win rate: 0.493 | time: 300.6 seconds\n",
      "Epoch: 074/3000 | Loss: 0.0020 | Episodes: 114 | Win count: 37 | Win rate: 0.500 | time: 303.9 seconds\n",
      "Epoch: 075/3000 | Loss: 0.0012 | Episodes: 88 | Win count: 38 | Win rate: 0.507 | time: 306.5 seconds\n",
      "Epoch: 076/3000 | Loss: 0.0009 | Episodes: 6 | Win count: 39 | Win rate: 0.513 | time: 306.7 seconds\n",
      "Epoch: 077/3000 | Loss: 0.0005 | Episodes: 13 | Win count: 40 | Win rate: 0.519 | time: 307.2 seconds\n",
      "Epoch: 078/3000 | Loss: 0.0023 | Episodes: 37 | Win count: 41 | Win rate: 0.526 | time: 308.4 seconds\n",
      "Epoch: 079/3000 | Loss: 0.0017 | Episodes: 139 | Win count: 41 | Win rate: 0.519 | time: 312.2 seconds\n",
      "Epoch: 080/3000 | Loss: 0.0004 | Episodes: 15 | Win count: 42 | Win rate: 0.525 | time: 312.8 seconds\n",
      "Epoch: 081/3000 | Loss: 0.0024 | Episodes: 38 | Win count: 43 | Win rate: 0.531 | time: 314.0 seconds\n",
      "Epoch: 082/3000 | Loss: 0.0006 | Episodes: 5 | Win count: 44 | Win rate: 0.537 | time: 314.2 seconds\n",
      "Epoch: 083/3000 | Loss: 0.0011 | Episodes: 86 | Win count: 45 | Win rate: 0.542 | time: 316.7 seconds\n",
      "Epoch: 084/3000 | Loss: 0.0009 | Episodes: 8 | Win count: 46 | Win rate: 0.548 | time: 317.0 seconds\n",
      "Epoch: 085/3000 | Loss: 0.0017 | Episodes: 15 | Win count: 47 | Win rate: 0.553 | time: 317.6 seconds\n",
      "Epoch: 086/3000 | Loss: 0.0006 | Episodes: 3 | Win count: 48 | Win rate: 0.558 | time: 317.8 seconds\n",
      "Epoch: 087/3000 | Loss: 0.0006 | Episodes: 23 | Win count: 49 | Win rate: 0.563 | time: 318.6 seconds\n",
      "Epoch: 088/3000 | Loss: 0.0008 | Episodes: 13 | Win count: 50 | Win rate: 0.568 | time: 319.1 seconds\n",
      "Epoch: 089/3000 | Loss: 0.0012 | Episodes: 22 | Win count: 51 | Win rate: 0.573 | time: 319.9 seconds\n",
      "Epoch: 090/3000 | Loss: 0.0009 | Episodes: 124 | Win count: 52 | Win rate: 0.578 | time: 323.8 seconds\n",
      "Epoch: 091/3000 | Loss: 0.0008 | Episodes: 143 | Win count: 52 | Win rate: 0.571 | time: 328.1 seconds\n",
      "Epoch: 092/3000 | Loss: 0.0016 | Episodes: 17 | Win count: 53 | Win rate: 0.576 | time: 328.8 seconds\n",
      "Epoch: 093/3000 | Loss: 0.0009 | Episodes: 6 | Win count: 54 | Win rate: 0.581 | time: 329.1 seconds\n",
      "Epoch: 094/3000 | Loss: 0.0017 | Episodes: 121 | Win count: 55 | Win rate: 0.585 | time: 333.0 seconds\n",
      "Epoch: 095/3000 | Loss: 0.0002 | Episodes: 152 | Win count: 56 | Win rate: 0.589 | time: 337.4 seconds\n",
      "Epoch: 096/3000 | Loss: 0.0004 | Episodes: 37 | Win count: 57 | Win rate: 0.594 | time: 338.6 seconds\n",
      "Epoch: 097/3000 | Loss: 0.0002 | Episodes: 22 | Win count: 58 | Win rate: 0.598 | time: 339.3 seconds\n",
      "Epoch: 098/3000 | Loss: 0.0016 | Episodes: 22 | Win count: 59 | Win rate: 0.602 | time: 340.0 seconds\n",
      "Epoch: 099/3000 | Loss: 0.0009 | Episodes: 87 | Win count: 60 | Win rate: 0.606 | time: 342.5 seconds\n",
      "Epoch: 100/3000 | Loss: 0.0013 | Episodes: 27 | Win count: 61 | Win rate: 0.610 | time: 343.3 seconds\n",
      "Epoch: 101/3000 | Loss: 0.0005 | Episodes: 21 | Win count: 62 | Win rate: 0.614 | time: 344.0 seconds\n",
      "Epoch: 102/3000 | Loss: 0.0006 | Episodes: 18 | Win count: 63 | Win rate: 0.618 | time: 344.6 seconds\n",
      "Epoch: 103/3000 | Loss: 0.0004 | Episodes: 148 | Win count: 64 | Win rate: 0.621 | time: 348.7 seconds\n",
      "Epoch: 104/3000 | Loss: 0.0009 | Episodes: 20 | Win count: 65 | Win rate: 0.625 | time: 349.3 seconds\n",
      "Epoch: 105/3000 | Loss: 0.0005 | Episodes: 18 | Win count: 66 | Win rate: 0.629 | time: 349.9 seconds\n",
      "Epoch: 106/3000 | Loss: 0.0014 | Episodes: 22 | Win count: 67 | Win rate: 0.632 | time: 350.6 seconds\n",
      "Epoch: 107/3000 | Loss: 0.0023 | Episodes: 143 | Win count: 67 | Win rate: 0.626 | time: 354.5 seconds\n",
      "Epoch: 108/3000 | Loss: 0.0006 | Episodes: 69 | Win count: 68 | Win rate: 0.630 | time: 356.5 seconds\n",
      "Epoch: 109/3000 | Loss: 0.0003 | Episodes: 15 | Win count: 69 | Win rate: 0.633 | time: 357.0 seconds\n",
      "Epoch: 110/3000 | Loss: 0.0014 | Episodes: 20 | Win count: 70 | Win rate: 0.636 | time: 357.6 seconds\n",
      "Epoch: 111/3000 | Loss: 0.0013 | Episodes: 87 | Win count: 71 | Win rate: 0.640 | time: 360.2 seconds\n",
      "Epoch: 112/3000 | Loss: 0.0018 | Episodes: 7 | Win count: 72 | Win rate: 0.643 | time: 360.5 seconds\n",
      "Epoch: 113/3000 | Loss: 0.0004 | Episodes: 16 | Win count: 73 | Win rate: 0.646 | time: 361.0 seconds\n",
      "Epoch: 114/3000 | Loss: 0.0005 | Episodes: 9 | Win count: 74 | Win rate: 0.649 | time: 361.3 seconds\n",
      "Epoch: 115/3000 | Loss: 0.0004 | Episodes: 31 | Win count: 75 | Win rate: 0.652 | time: 362.2 seconds\n",
      "Epoch: 116/3000 | Loss: 0.0013 | Episodes: 35 | Win count: 76 | Win rate: 0.655 | time: 363.3 seconds\n",
      "Epoch: 117/3000 | Loss: 0.0018 | Episodes: 20 | Win count: 77 | Win rate: 0.658 | time: 364.0 seconds\n",
      "Epoch: 118/3000 | Loss: 0.0012 | Episodes: 36 | Win count: 78 | Win rate: 0.661 | time: 365.1 seconds\n",
      "Epoch: 119/3000 | Loss: 0.0006 | Episodes: 18 | Win count: 79 | Win rate: 0.664 | time: 365.7 seconds\n",
      "Epoch: 120/3000 | Loss: 0.0008 | Episodes: 8 | Win count: 80 | Win rate: 0.667 | time: 366.0 seconds\n",
      "Epoch: 121/3000 | Loss: 0.0002 | Episodes: 5 | Win count: 81 | Win rate: 0.669 | time: 366.3 seconds\n",
      "Epoch: 122/3000 | Loss: 0.0005 | Episodes: 24 | Win count: 82 | Win rate: 0.672 | time: 367.0 seconds\n",
      "Epoch: 123/3000 | Loss: 0.0007 | Episodes: 133 | Win count: 83 | Win rate: 0.675 | time: 371.1 seconds\n",
      "Epoch: 124/3000 | Loss: 0.0008 | Episodes: 128 | Win count: 84 | Win rate: 0.677 | time: 374.7 seconds\n",
      "Epoch: 125/3000 | Loss: 0.0002 | Episodes: 11 | Win count: 85 | Win rate: 0.680 | time: 375.2 seconds\n",
      "Epoch: 126/3000 | Loss: 0.0012 | Episodes: 2 | Win count: 86 | Win rate: 0.683 | time: 375.3 seconds\n",
      "Epoch: 127/3000 | Loss: 0.0012 | Episodes: 139 | Win count: 86 | Win rate: 0.677 | time: 379.4 seconds\n",
      "Epoch: 128/3000 | Loss: 0.0014 | Episodes: 91 | Win count: 87 | Win rate: 0.680 | time: 382.2 seconds\n",
      "Epoch: 129/3000 | Loss: 0.0007 | Episodes: 144 | Win count: 87 | Win rate: 0.674 | time: 386.4 seconds\n",
      "Epoch: 130/3000 | Loss: 0.0009 | Episodes: 20 | Win count: 88 | Win rate: 0.677 | time: 387.0 seconds\n",
      "Epoch: 131/3000 | Loss: 0.0010 | Episodes: 3 | Win count: 89 | Win rate: 0.679 | time: 387.2 seconds\n",
      "Epoch: 132/3000 | Loss: 0.0008 | Episodes: 8 | Win count: 90 | Win rate: 0.682 | time: 387.5 seconds\n",
      "Epoch: 133/3000 | Loss: 0.0010 | Episodes: 61 | Win count: 91 | Win rate: 0.684 | time: 389.4 seconds\n",
      "Epoch: 134/3000 | Loss: 0.0018 | Episodes: 124 | Win count: 92 | Win rate: 0.687 | time: 393.0 seconds\n",
      "Epoch: 135/3000 | Loss: 0.0025 | Episodes: 26 | Win count: 93 | Win rate: 0.689 | time: 393.8 seconds\n",
      "Epoch: 136/3000 | Loss: 0.0010 | Episodes: 26 | Win count: 94 | Win rate: 0.691 | time: 394.7 seconds\n",
      "Epoch: 137/3000 | Loss: 0.0005 | Episodes: 42 | Win count: 95 | Win rate: 0.693 | time: 396.0 seconds\n",
      "Epoch: 138/3000 | Loss: 0.0018 | Episodes: 23 | Win count: 96 | Win rate: 0.696 | time: 396.8 seconds\n",
      "Epoch: 139/3000 | Loss: 0.0008 | Episodes: 20 | Win count: 97 | Win rate: 0.698 | time: 397.5 seconds\n",
      "Epoch: 140/3000 | Loss: 0.0013 | Episodes: 28 | Win count: 98 | Win rate: 0.700 | time: 398.5 seconds\n",
      "Epoch: 141/3000 | Loss: 0.0003 | Episodes: 70 | Win count: 99 | Win rate: 0.702 | time: 6.67 minutes\n",
      "Epoch: 142/3000 | Loss: 0.0013 | Episodes: 24 | Win count: 100 | Win rate: 0.704 | time: 6.69 minutes\n",
      "Epoch: 143/3000 | Loss: 0.0013 | Episodes: 8 | Win count: 101 | Win rate: 0.706 | time: 6.70 minutes\n",
      "Epoch: 144/3000 | Loss: 0.0005 | Episodes: 9 | Win count: 102 | Win rate: 0.708 | time: 6.70 minutes\n",
      "Epoch: 145/3000 | Loss: 0.0017 | Episodes: 17 | Win count: 103 | Win rate: 0.710 | time: 6.71 minutes\n",
      "Epoch: 146/3000 | Loss: 0.0008 | Episodes: 143 | Win count: 103 | Win rate: 0.705 | time: 6.78 minutes\n",
      "Epoch: 147/3000 | Loss: 0.0024 | Episodes: 8 | Win count: 104 | Win rate: 0.707 | time: 6.78 minutes\n",
      "Epoch: 148/3000 | Loss: 0.0007 | Episodes: 12 | Win count: 105 | Win rate: 0.709 | time: 6.79 minutes\n",
      "Epoch: 149/3000 | Loss: 0.0005 | Episodes: 23 | Win count: 106 | Win rate: 0.711 | time: 6.80 minutes\n",
      "Epoch: 150/3000 | Loss: 0.0006 | Episodes: 12 | Win count: 107 | Win rate: 0.713 | time: 6.81 minutes\n",
      "Epoch: 151/3000 | Loss: 0.0003 | Episodes: 7 | Win count: 108 | Win rate: 0.715 | time: 6.82 minutes\n",
      "Epoch: 152/3000 | Loss: 0.0005 | Episodes: 71 | Win count: 109 | Win rate: 0.717 | time: 6.85 minutes\n",
      "Epoch: 153/3000 | Loss: 0.0009 | Episodes: 52 | Win count: 110 | Win rate: 0.719 | time: 6.87 minutes\n",
      "Epoch: 154/3000 | Loss: 0.0014 | Episodes: 30 | Win count: 111 | Win rate: 0.721 | time: 6.89 minutes\n",
      "Epoch: 155/3000 | Loss: 0.0007 | Episodes: 8 | Win count: 112 | Win rate: 0.723 | time: 6.89 minutes\n",
      "Epoch: 156/3000 | Loss: 0.0022 | Episodes: 92 | Win count: 113 | Win rate: 0.724 | time: 6.94 minutes\n",
      "Epoch: 157/3000 | Loss: 0.0003 | Episodes: 26 | Win count: 114 | Win rate: 0.726 | time: 6.95 minutes\n",
      "Epoch: 158/3000 | Loss: 0.0011 | Episodes: 8 | Win count: 115 | Win rate: 0.728 | time: 6.96 minutes\n",
      "Epoch: 159/3000 | Loss: 0.0008 | Episodes: 16 | Win count: 116 | Win rate: 0.730 | time: 6.97 minutes\n",
      "Epoch: 160/3000 | Loss: 0.0008 | Episodes: 121 | Win count: 117 | Win rate: 0.731 | time: 7.03 minutes\n",
      "Epoch: 161/3000 | Loss: 0.0002 | Episodes: 87 | Win count: 118 | Win rate: 0.733 | time: 7.07 minutes\n",
      "Epoch: 162/3000 | Loss: 0.0006 | Episodes: 142 | Win count: 119 | Win rate: 0.735 | time: 7.14 minutes\n",
      "Epoch: 163/3000 | Loss: 0.0006 | Episodes: 38 | Win count: 120 | Win rate: 0.736 | time: 7.16 minutes\n",
      "Epoch: 164/3000 | Loss: 0.0004 | Episodes: 22 | Win count: 121 | Win rate: 0.738 | time: 7.17 minutes\n",
      "Epoch: 165/3000 | Loss: 0.0010 | Episodes: 9 | Win count: 122 | Win rate: 0.739 | time: 7.17 minutes\n",
      "Epoch: 166/3000 | Loss: 0.0006 | Episodes: 20 | Win count: 123 | Win rate: 0.741 | time: 7.18 minutes\n",
      "Epoch: 167/3000 | Loss: 0.0008 | Episodes: 37 | Win count: 124 | Win rate: 0.743 | time: 7.21 minutes\n",
      "Epoch: 168/3000 | Loss: 0.0015 | Episodes: 53 | Win count: 125 | Win rate: 0.744 | time: 7.23 minutes\n",
      "Epoch: 169/3000 | Loss: 0.0012 | Episodes: 8 | Win count: 126 | Win rate: 0.746 | time: 7.24 minutes\n",
      "Epoch: 170/3000 | Loss: 0.0017 | Episodes: 26 | Win count: 127 | Win rate: 0.747 | time: 7.25 minutes\n",
      "Epoch: 171/3000 | Loss: 0.0011 | Episodes: 100 | Win count: 128 | Win rate: 0.749 | time: 7.30 minutes\n",
      "Epoch: 172/3000 | Loss: 0.0011 | Episodes: 43 | Win count: 129 | Win rate: 0.750 | time: 7.32 minutes\n",
      "Epoch: 173/3000 | Loss: 0.0007 | Episodes: 35 | Win count: 130 | Win rate: 0.751 | time: 7.34 minutes\n",
      "Epoch: 174/3000 | Loss: 0.0014 | Episodes: 41 | Win count: 131 | Win rate: 0.753 | time: 7.36 minutes\n",
      "Epoch: 175/3000 | Loss: 0.0007 | Episodes: 33 | Win count: 132 | Win rate: 0.754 | time: 7.38 minutes\n",
      "Epoch: 176/3000 | Loss: 0.0005 | Episodes: 2 | Win count: 133 | Win rate: 0.756 | time: 7.38 minutes\n",
      "Epoch: 177/3000 | Loss: 0.0013 | Episodes: 33 | Win count: 134 | Win rate: 0.757 | time: 7.40 minutes\n",
      "Epoch: 178/3000 | Loss: 0.0012 | Episodes: 27 | Win count: 135 | Win rate: 0.758 | time: 7.41 minutes\n",
      "Epoch: 179/3000 | Loss: 0.0015 | Episodes: 21 | Win count: 136 | Win rate: 0.760 | time: 7.42 minutes\n",
      "Epoch: 180/3000 | Loss: 0.0004 | Episodes: 20 | Win count: 137 | Win rate: 0.761 | time: 7.44 minutes\n",
      "Epoch: 181/3000 | Loss: 0.0014 | Episodes: 15 | Win count: 138 | Win rate: 0.762 | time: 7.45 minutes\n",
      "Epoch: 182/3000 | Loss: 0.0007 | Episodes: 22 | Win count: 139 | Win rate: 0.764 | time: 7.46 minutes\n",
      "Epoch: 183/3000 | Loss: 0.0023 | Episodes: 8 | Win count: 140 | Win rate: 0.765 | time: 7.47 minutes\n",
      "Epoch: 184/3000 | Loss: 0.0014 | Episodes: 10 | Win count: 141 | Win rate: 0.766 | time: 7.47 minutes\n",
      "Epoch: 185/3000 | Loss: 0.0014 | Episodes: 22 | Win count: 142 | Win rate: 0.768 | time: 7.49 minutes\n",
      "Epoch: 186/3000 | Loss: 0.0011 | Episodes: 9 | Win count: 143 | Win rate: 0.769 | time: 7.49 minutes\n",
      "Epoch: 187/3000 | Loss: 0.0007 | Episodes: 9 | Win count: 144 | Win rate: 0.770 | time: 7.50 minutes\n",
      "Epoch: 188/3000 | Loss: 0.0018 | Episodes: 5 | Win count: 145 | Win rate: 0.771 | time: 7.51 minutes\n",
      "Epoch: 189/3000 | Loss: 0.0002 | Episodes: 139 | Win count: 145 | Win rate: 0.767 | time: 7.57 minutes\n",
      "Epoch: 190/3000 | Loss: 0.0009 | Episodes: 74 | Win count: 146 | Win rate: 0.768 | time: 7.61 minutes\n",
      "Epoch: 191/3000 | Loss: 0.0015 | Episodes: 32 | Win count: 147 | Win rate: 0.770 | time: 7.62 minutes\n",
      "Epoch: 192/3000 | Loss: 0.0008 | Episodes: 3 | Win count: 148 | Win rate: 0.771 | time: 7.63 minutes\n",
      "Epoch: 193/3000 | Loss: 0.0015 | Episodes: 11 | Win count: 149 | Win rate: 0.772 | time: 7.63 minutes\n",
      "Epoch: 194/3000 | Loss: 0.0006 | Episodes: 20 | Win count: 150 | Win rate: 0.773 | time: 7.64 minutes\n",
      "Epoch: 195/3000 | Loss: 0.0001 | Episodes: 14 | Win count: 151 | Win rate: 0.774 | time: 7.65 minutes\n",
      "Epoch: 196/3000 | Loss: 0.0003 | Episodes: 8 | Win count: 152 | Win rate: 0.776 | time: 7.66 minutes\n",
      "Epoch: 197/3000 | Loss: 0.0012 | Episodes: 54 | Win count: 153 | Win rate: 0.777 | time: 7.68 minutes\n",
      "Epoch: 198/3000 | Loss: 0.0011 | Episodes: 71 | Win count: 154 | Win rate: 0.778 | time: 7.72 minutes\n",
      "Epoch: 199/3000 | Loss: 0.0012 | Episodes: 56 | Win count: 155 | Win rate: 0.779 | time: 7.75 minutes\n",
      "Epoch: 200/3000 | Loss: 0.0012 | Episodes: 19 | Win count: 156 | Win rate: 0.780 | time: 7.76 minutes\n",
      "Epoch: 201/3000 | Loss: 0.0002 | Episodes: 16 | Win count: 157 | Win rate: 0.781 | time: 7.76 minutes\n",
      "Epoch: 202/3000 | Loss: 0.0004 | Episodes: 8 | Win count: 158 | Win rate: 0.782 | time: 7.77 minutes\n",
      "Epoch: 203/3000 | Loss: 0.0006 | Episodes: 28 | Win count: 159 | Win rate: 0.783 | time: 7.78 minutes\n",
      "Epoch: 204/3000 | Loss: 0.0009 | Episodes: 2 | Win count: 160 | Win rate: 0.784 | time: 7.79 minutes\n",
      "Epoch: 205/3000 | Loss: 0.0009 | Episodes: 53 | Win count: 161 | Win rate: 0.785 | time: 7.81 minutes\n",
      "Epoch: 206/3000 | Loss: 0.0012 | Episodes: 24 | Win count: 162 | Win rate: 0.786 | time: 7.82 minutes\n",
      "Epoch: 207/3000 | Loss: 0.0007 | Episodes: 71 | Win count: 163 | Win rate: 0.787 | time: 7.86 minutes\n",
      "Epoch: 208/3000 | Loss: 0.0007 | Episodes: 6 | Win count: 164 | Win rate: 0.788 | time: 7.86 minutes\n",
      "Epoch: 209/3000 | Loss: 0.0003 | Episodes: 40 | Win count: 165 | Win rate: 0.789 | time: 7.88 minutes\n",
      "Epoch: 210/3000 | Loss: 0.0009 | Episodes: 18 | Win count: 166 | Win rate: 0.790 | time: 7.89 minutes\n",
      "Epoch: 211/3000 | Loss: 0.0009 | Episodes: 42 | Win count: 167 | Win rate: 0.791 | time: 7.91 minutes\n",
      "Epoch: 212/3000 | Loss: 0.0004 | Episodes: 8 | Win count: 168 | Win rate: 0.792 | time: 7.92 minutes\n",
      "Epoch: 213/3000 | Loss: 0.0008 | Episodes: 29 | Win count: 169 | Win rate: 0.793 | time: 7.93 minutes\n",
      "Epoch: 214/3000 | Loss: 0.0016 | Episodes: 33 | Win count: 170 | Win rate: 0.794 | time: 7.95 minutes\n",
      "Epoch: 215/3000 | Loss: 0.0002 | Episodes: 18 | Win count: 171 | Win rate: 0.795 | time: 7.96 minutes\n",
      "Epoch: 216/3000 | Loss: 0.0001 | Episodes: 7 | Win count: 172 | Win rate: 0.796 | time: 7.96 minutes\n",
      "Epoch: 217/3000 | Loss: 0.0022 | Episodes: 29 | Win count: 173 | Win rate: 0.797 | time: 7.98 minutes\n",
      "Epoch: 218/3000 | Loss: 0.0009 | Episodes: 4 | Win count: 174 | Win rate: 0.798 | time: 7.98 minutes\n",
      "Epoch: 219/3000 | Loss: 0.0006 | Episodes: 50 | Win count: 175 | Win rate: 0.799 | time: 8.01 minutes\n",
      "Epoch: 220/3000 | Loss: 0.0007 | Episodes: 21 | Win count: 176 | Win rate: 0.800 | time: 8.02 minutes\n",
      "Epoch: 221/3000 | Loss: 0.0009 | Episodes: 18 | Win count: 177 | Win rate: 0.801 | time: 8.03 minutes\n",
      "Epoch: 222/3000 | Loss: 0.0006 | Episodes: 31 | Win count: 178 | Win rate: 0.802 | time: 8.05 minutes\n",
      "Epoch: 223/3000 | Loss: 0.0001 | Episodes: 24 | Win count: 179 | Win rate: 0.803 | time: 8.06 minutes\n",
      "Epoch: 224/3000 | Loss: 0.0012 | Episodes: 20 | Win count: 180 | Win rate: 0.804 | time: 8.07 minutes\n",
      "Epoch: 225/3000 | Loss: 0.0024 | Episodes: 4 | Win count: 181 | Win rate: 0.804 | time: 8.08 minutes\n",
      "Epoch: 226/3000 | Loss: 0.0006 | Episodes: 26 | Win count: 182 | Win rate: 0.805 | time: 8.10 minutes\n",
      "Epoch: 227/3000 | Loss: 0.0006 | Episodes: 17 | Win count: 183 | Win rate: 0.806 | time: 8.12 minutes\n",
      "Epoch: 228/3000 | Loss: 0.0005 | Episodes: 20 | Win count: 184 | Win rate: 0.807 | time: 8.13 minutes\n",
      "Epoch: 229/3000 | Loss: 0.0020 | Episodes: 10 | Win count: 185 | Win rate: 0.808 | time: 8.14 minutes\n",
      "Epoch: 230/3000 | Loss: 0.0008 | Episodes: 33 | Win count: 186 | Win rate: 0.809 | time: 8.16 minutes\n",
      "Epoch: 231/3000 | Loss: 0.0007 | Episodes: 54 | Win count: 187 | Win rate: 0.810 | time: 8.19 minutes\n",
      "Epoch: 232/3000 | Loss: 0.0002 | Episodes: 5 | Win count: 188 | Win rate: 0.810 | time: 8.20 minutes\n",
      "Epoch: 233/3000 | Loss: 0.0004 | Episodes: 7 | Win count: 189 | Win rate: 0.811 | time: 8.21 minutes\n",
      "Epoch: 234/3000 | Loss: 0.0002 | Episodes: 31 | Win count: 190 | Win rate: 0.812 | time: 8.22 minutes\n",
      "Epoch: 235/3000 | Loss: 0.0013 | Episodes: 35 | Win count: 191 | Win rate: 0.813 | time: 8.24 minutes\n",
      "Epoch: 236/3000 | Loss: 0.0014 | Episodes: 32 | Win count: 192 | Win rate: 0.814 | time: 8.26 minutes\n",
      "Epoch: 237/3000 | Loss: 0.0036 | Episodes: 9 | Win count: 193 | Win rate: 0.814 | time: 8.27 minutes\n",
      "Epoch: 238/3000 | Loss: 0.0010 | Episodes: 50 | Win count: 194 | Win rate: 0.815 | time: 8.30 minutes\n",
      "Epoch: 239/3000 | Loss: 0.0011 | Episodes: 17 | Win count: 195 | Win rate: 0.816 | time: 8.32 minutes\n",
      "Epoch: 240/3000 | Loss: 0.0003 | Episodes: 17 | Win count: 196 | Win rate: 0.817 | time: 8.33 minutes\n",
      "Epoch: 241/3000 | Loss: 0.0008 | Episodes: 10 | Win count: 197 | Win rate: 0.817 | time: 8.35 minutes\n",
      "Epoch: 242/3000 | Loss: 0.0009 | Episodes: 7 | Win count: 198 | Win rate: 0.818 | time: 8.37 minutes\n",
      "Epoch: 243/3000 | Loss: 0.0008 | Episodes: 21 | Win count: 199 | Win rate: 0.819 | time: 8.38 minutes\n",
      "Epoch: 244/3000 | Loss: 0.0008 | Episodes: 38 | Win count: 200 | Win rate: 0.820 | time: 8.41 minutes\n",
      "Epoch: 245/3000 | Loss: 0.0016 | Episodes: 11 | Win count: 201 | Win rate: 0.820 | time: 8.42 minutes\n",
      "Epoch: 246/3000 | Loss: 0.0002 | Episodes: 24 | Win count: 202 | Win rate: 0.821 | time: 8.44 minutes\n",
      "Epoch: 247/3000 | Loss: 0.0004 | Episodes: 12 | Win count: 203 | Win rate: 0.822 | time: 8.46 minutes\n",
      "Epoch: 248/3000 | Loss: 0.0012 | Episodes: 26 | Win count: 204 | Win rate: 0.823 | time: 8.48 minutes\n",
      "Epoch: 249/3000 | Loss: 0.0002 | Episodes: 91 | Win count: 205 | Win rate: 0.823 | time: 8.53 minutes\n",
      "Epoch: 250/3000 | Loss: 0.0017 | Episodes: 35 | Win count: 206 | Win rate: 0.824 | time: 8.55 minutes\n",
      "Epoch: 251/3000 | Loss: 0.0023 | Episodes: 36 | Win count: 207 | Win rate: 0.825 | time: 8.57 minutes\n",
      "Epoch: 252/3000 | Loss: 0.0010 | Episodes: 7 | Win count: 208 | Win rate: 0.825 | time: 8.58 minutes\n",
      "Epoch: 253/3000 | Loss: 0.0010 | Episodes: 4 | Win count: 209 | Win rate: 0.826 | time: 8.58 minutes\n",
      "Epoch: 254/3000 | Loss: 0.0003 | Episodes: 23 | Win count: 210 | Win rate: 0.827 | time: 8.59 minutes\n",
      "Epoch: 255/3000 | Loss: 0.0010 | Episodes: 40 | Win count: 211 | Win rate: 0.827 | time: 8.61 minutes\n",
      "Epoch: 256/3000 | Loss: 0.0002 | Episodes: 2 | Win count: 212 | Win rate: 0.828 | time: 8.62 minutes\n",
      "Epoch: 257/3000 | Loss: 0.0004 | Episodes: 14 | Win count: 213 | Win rate: 0.829 | time: 8.63 minutes\n",
      "Epoch: 258/3000 | Loss: 0.0005 | Episodes: 25 | Win count: 214 | Win rate: 0.829 | time: 8.64 minutes\n",
      "Epoch: 259/3000 | Loss: 0.0001 | Episodes: 7 | Win count: 215 | Win rate: 0.830 | time: 8.65 minutes\n",
      "Epoch: 260/3000 | Loss: 0.0006 | Episodes: 23 | Win count: 216 | Win rate: 0.831 | time: 8.66 minutes\n",
      "Epoch: 261/3000 | Loss: 0.0011 | Episodes: 59 | Win count: 217 | Win rate: 0.831 | time: 8.69 minutes\n",
      "Epoch: 262/3000 | Loss: 0.0013 | Episodes: 18 | Win count: 218 | Win rate: 0.832 | time: 8.70 minutes\n",
      "Epoch: 263/3000 | Loss: 0.0014 | Episodes: 22 | Win count: 219 | Win rate: 0.833 | time: 8.71 minutes\n",
      "Epoch: 264/3000 | Loss: 0.0008 | Episodes: 5 | Win count: 220 | Win rate: 0.833 | time: 8.72 minutes\n",
      "Epoch: 265/3000 | Loss: 0.0010 | Episodes: 14 | Win count: 221 | Win rate: 0.834 | time: 8.73 minutes\n",
      "Epoch: 266/3000 | Loss: 0.0018 | Episodes: 5 | Win count: 222 | Win rate: 0.835 | time: 8.73 minutes\n",
      "Epoch: 267/3000 | Loss: 0.0006 | Episodes: 30 | Win count: 223 | Win rate: 0.835 | time: 8.75 minutes\n",
      "Epoch: 268/3000 | Loss: 0.0005 | Episodes: 23 | Win count: 224 | Win rate: 0.836 | time: 8.76 minutes\n",
      "Epoch: 269/3000 | Loss: 0.0003 | Episodes: 41 | Win count: 225 | Win rate: 0.836 | time: 8.79 minutes\n",
      "Epoch: 270/3000 | Loss: 0.0017 | Episodes: 11 | Win count: 226 | Win rate: 0.837 | time: 8.79 minutes\n",
      "Epoch: 271/3000 | Loss: 0.0011 | Episodes: 23 | Win count: 227 | Win rate: 0.838 | time: 8.81 minutes\n",
      "Epoch: 272/3000 | Loss: 0.0005 | Episodes: 7 | Win count: 228 | Win rate: 0.838 | time: 8.83 minutes\n",
      "Epoch: 273/3000 | Loss: 0.0012 | Episodes: 6 | Win count: 229 | Win rate: 0.839 | time: 8.84 minutes\n",
      "Epoch: 274/3000 | Loss: 0.0005 | Episodes: 29 | Win count: 230 | Win rate: 0.839 | time: 8.86 minutes\n",
      "Epoch: 275/3000 | Loss: 0.0007 | Episodes: 27 | Win count: 231 | Win rate: 0.840 | time: 8.88 minutes\n",
      "Epoch: 276/3000 | Loss: 0.0009 | Episodes: 7 | Win count: 232 | Win rate: 0.841 | time: 8.88 minutes\n",
      "Epoch: 277/3000 | Loss: 0.0013 | Episodes: 17 | Win count: 233 | Win rate: 0.841 | time: 8.89 minutes\n",
      "Epoch: 278/3000 | Loss: 0.0005 | Episodes: 35 | Win count: 234 | Win rate: 0.842 | time: 8.91 minutes\n",
      "Epoch: 279/3000 | Loss: 0.0003 | Episodes: 6 | Win count: 235 | Win rate: 0.842 | time: 8.92 minutes\n",
      "Epoch: 280/3000 | Loss: 0.0010 | Episodes: 9 | Win count: 236 | Win rate: 0.843 | time: 8.92 minutes\n",
      "Epoch: 281/3000 | Loss: 0.0013 | Episodes: 18 | Win count: 237 | Win rate: 0.843 | time: 8.93 minutes\n",
      "Epoch: 282/3000 | Loss: 0.0014 | Episodes: 10 | Win count: 238 | Win rate: 0.844 | time: 8.94 minutes\n",
      "Epoch: 283/3000 | Loss: 0.0023 | Episodes: 57 | Win count: 239 | Win rate: 0.845 | time: 8.97 minutes\n",
      "Epoch: 284/3000 | Loss: 0.0010 | Episodes: 65 | Win count: 240 | Win rate: 0.845 | time: 9.00 minutes\n",
      "Epoch: 285/3000 | Loss: 0.0012 | Episodes: 27 | Win count: 241 | Win rate: 0.846 | time: 9.03 minutes\n",
      "Epoch: 286/3000 | Loss: 0.0004 | Episodes: 14 | Win count: 242 | Win rate: 0.846 | time: 9.04 minutes\n",
      "Epoch: 287/3000 | Loss: 0.0004 | Episodes: 24 | Win count: 243 | Win rate: 0.847 | time: 9.05 minutes\n",
      "Epoch: 288/3000 | Loss: 0.0019 | Episodes: 5 | Win count: 244 | Win rate: 0.847 | time: 9.06 minutes\n",
      "Epoch: 289/3000 | Loss: 0.0013 | Episodes: 5 | Win count: 245 | Win rate: 0.848 | time: 9.06 minutes\n",
      "Epoch: 290/3000 | Loss: 0.0002 | Episodes: 25 | Win count: 246 | Win rate: 0.848 | time: 9.08 minutes\n",
      "Epoch: 291/3000 | Loss: 0.0000 | Episodes: 4 | Win count: 247 | Win rate: 0.849 | time: 9.08 minutes\n",
      "Epoch: 292/3000 | Loss: 0.0004 | Episodes: 16 | Win count: 248 | Win rate: 0.849 | time: 9.09 minutes\n",
      "Epoch: 293/3000 | Loss: 0.0002 | Episodes: 27 | Win count: 249 | Win rate: 0.850 | time: 9.11 minutes\n",
      "Epoch: 294/3000 | Loss: 0.0006 | Episodes: 8 | Win count: 250 | Win rate: 0.850 | time: 9.11 minutes\n",
      "Epoch: 295/3000 | Loss: 0.0002 | Episodes: 16 | Win count: 251 | Win rate: 0.851 | time: 9.12 minutes\n",
      "Epoch: 296/3000 | Loss: 0.0006 | Episodes: 59 | Win count: 252 | Win rate: 0.851 | time: 9.15 minutes\n",
      "Epoch: 297/3000 | Loss: 0.0011 | Episodes: 10 | Win count: 253 | Win rate: 0.852 | time: 9.16 minutes\n",
      "Epoch: 298/3000 | Loss: 0.0014 | Episodes: 8 | Win count: 254 | Win rate: 0.852 | time: 9.17 minutes\n",
      "Epoch: 299/3000 | Loss: 0.0009 | Episodes: 5 | Win count: 255 | Win rate: 0.853 | time: 9.17 minutes\n",
      "Epoch: 300/3000 | Loss: 0.0004 | Episodes: 14 | Win count: 256 | Win rate: 0.853 | time: 9.18 minutes\n",
      "Epoch: 301/3000 | Loss: 0.0002 | Episodes: 21 | Win count: 257 | Win rate: 0.854 | time: 9.20 minutes\n",
      "Epoch: 302/3000 | Loss: 0.0012 | Episodes: 29 | Win count: 258 | Win rate: 0.854 | time: 9.22 minutes\n",
      "Epoch: 303/3000 | Loss: 0.0003 | Episodes: 33 | Win count: 259 | Win rate: 0.855 | time: 9.24 minutes\n",
      "Epoch: 304/3000 | Loss: 0.0012 | Episodes: 12 | Win count: 260 | Win rate: 0.855 | time: 9.25 minutes\n",
      "Epoch: 305/3000 | Loss: 0.0009 | Episodes: 7 | Win count: 261 | Win rate: 0.856 | time: 9.25 minutes\n",
      "Epoch: 306/3000 | Loss: 0.0001 | Episodes: 20 | Win count: 262 | Win rate: 0.856 | time: 9.26 minutes\n",
      "Epoch: 307/3000 | Loss: 0.0003 | Episodes: 3 | Win count: 263 | Win rate: 0.857 | time: 9.27 minutes\n",
      "Epoch: 308/3000 | Loss: 0.0004 | Episodes: 3 | Win count: 264 | Win rate: 0.857 | time: 9.27 minutes\n",
      "Epoch: 309/3000 | Loss: 0.0011 | Episodes: 34 | Win count: 265 | Win rate: 0.858 | time: 9.29 minutes\n",
      "Epoch: 310/3000 | Loss: 0.0017 | Episodes: 26 | Win count: 266 | Win rate: 0.858 | time: 9.31 minutes\n",
      "Epoch: 311/3000 | Loss: 0.0010 | Episodes: 11 | Win count: 267 | Win rate: 0.859 | time: 9.32 minutes\n",
      "Epoch: 312/3000 | Loss: 0.0011 | Episodes: 29 | Win count: 268 | Win rate: 0.859 | time: 9.34 minutes\n",
      "Epoch: 313/3000 | Loss: 0.0003 | Episodes: 13 | Win count: 269 | Win rate: 0.859 | time: 9.35 minutes\n",
      "Epoch: 314/3000 | Loss: 0.0007 | Episodes: 50 | Win count: 270 | Win rate: 0.860 | time: 9.39 minutes\n",
      "Epoch: 315/3000 | Loss: 0.0013 | Episodes: 21 | Win count: 271 | Win rate: 0.860 | time: 9.41 minutes\n",
      "Epoch: 316/3000 | Loss: 0.0010 | Episodes: 31 | Win count: 272 | Win rate: 0.861 | time: 9.42 minutes\n",
      "Epoch: 317/3000 | Loss: 0.0002 | Episodes: 29 | Win count: 273 | Win rate: 0.861 | time: 9.44 minutes\n",
      "Epoch: 318/3000 | Loss: 0.0003 | Episodes: 5 | Win count: 274 | Win rate: 0.862 | time: 9.46 minutes\n",
      "Epoch: 319/3000 | Loss: 0.0001 | Episodes: 3 | Win count: 275 | Win rate: 0.862 | time: 9.46 minutes\n",
      "Epoch: 320/3000 | Loss: 0.0002 | Episodes: 7 | Win count: 276 | Win rate: 0.863 | time: 9.47 minutes\n",
      "Epoch: 321/3000 | Loss: 0.0006 | Episodes: 70 | Win count: 277 | Win rate: 0.863 | time: 9.52 minutes\n",
      "Epoch: 322/3000 | Loss: 0.0003 | Episodes: 28 | Win count: 278 | Win rate: 0.863 | time: 9.55 minutes\n",
      "Epoch: 323/3000 | Loss: 0.0010 | Episodes: 67 | Win count: 279 | Win rate: 0.864 | time: 9.60 minutes\n",
      "Epoch: 324/3000 | Loss: 0.0009 | Episodes: 34 | Win count: 280 | Win rate: 0.864 | time: 9.63 minutes\n",
      "Epoch: 325/3000 | Loss: 0.0007 | Episodes: 23 | Win count: 281 | Win rate: 0.865 | time: 9.64 minutes\n",
      "Epoch: 326/3000 | Loss: 0.0012 | Episodes: 10 | Win count: 282 | Win rate: 0.865 | time: 9.65 minutes\n",
      "Epoch: 327/3000 | Loss: 0.0003 | Episodes: 117 | Win count: 283 | Win rate: 0.865 | time: 9.71 minutes\n",
      "Epoch: 328/3000 | Loss: 0.0008 | Episodes: 45 | Win count: 284 | Win rate: 0.866 | time: 9.73 minutes\n",
      "Epoch: 329/3000 | Loss: 0.0006 | Episodes: 25 | Win count: 285 | Win rate: 0.866 | time: 9.75 minutes\n",
      "Epoch: 330/3000 | Loss: 0.0008 | Episodes: 2 | Win count: 286 | Win rate: 0.867 | time: 9.75 minutes\n",
      "Epoch: 331/3000 | Loss: 0.0016 | Episodes: 70 | Win count: 287 | Win rate: 0.867 | time: 9.79 minutes\n",
      "Epoch: 332/3000 | Loss: 0.0005 | Episodes: 21 | Win count: 288 | Win rate: 0.867 | time: 9.80 minutes\n",
      "Epoch: 333/3000 | Loss: 0.0005 | Episodes: 2 | Win count: 289 | Win rate: 0.868 | time: 9.80 minutes\n",
      "Epoch: 334/3000 | Loss: 0.0012 | Episodes: 18 | Win count: 290 | Win rate: 0.868 | time: 9.81 minutes\n",
      "Epoch: 335/3000 | Loss: 0.0010 | Episodes: 32 | Win count: 291 | Win rate: 0.869 | time: 9.83 minutes\n",
      "Epoch: 336/3000 | Loss: 0.0007 | Episodes: 39 | Win count: 292 | Win rate: 0.869 | time: 9.86 minutes\n",
      "Epoch: 337/3000 | Loss: 0.0011 | Episodes: 12 | Win count: 293 | Win rate: 0.869 | time: 9.87 minutes\n",
      "Epoch: 338/3000 | Loss: 0.0018 | Episodes: 47 | Win count: 294 | Win rate: 0.870 | time: 9.90 minutes\n",
      "Epoch: 339/3000 | Loss: 0.0016 | Episodes: 50 | Win count: 295 | Win rate: 0.870 | time: 9.92 minutes\n",
      "Epoch: 340/3000 | Loss: 0.0009 | Episodes: 21 | Win count: 296 | Win rate: 0.871 | time: 9.94 minutes\n",
      "Epoch: 341/3000 | Loss: 0.0010 | Episodes: 13 | Win count: 297 | Win rate: 0.871 | time: 9.96 minutes\n",
      "Epoch: 342/3000 | Loss: 0.0022 | Episodes: 21 | Win count: 298 | Win rate: 0.871 | time: 9.98 minutes\n",
      "Epoch: 343/3000 | Loss: 0.0016 | Episodes: 13 | Win count: 299 | Win rate: 0.872 | time: 9.99 minutes\n",
      "Epoch: 344/3000 | Loss: 0.0006 | Episodes: 40 | Win count: 300 | Win rate: 0.872 | time: 10.01 minutes\n",
      "Epoch: 345/3000 | Loss: 0.0015 | Episodes: 10 | Win count: 301 | Win rate: 0.872 | time: 10.03 minutes\n",
      "Epoch: 346/3000 | Loss: 0.0005 | Episodes: 70 | Win count: 302 | Win rate: 0.873 | time: 10.08 minutes\n",
      "Epoch: 347/3000 | Loss: 0.0020 | Episodes: 31 | Win count: 303 | Win rate: 0.873 | time: 10.10 minutes\n",
      "Epoch: 348/3000 | Loss: 0.0009 | Episodes: 40 | Win count: 304 | Win rate: 0.874 | time: 10.12 minutes\n",
      "Epoch: 349/3000 | Loss: 0.0008 | Episodes: 21 | Win count: 305 | Win rate: 0.874 | time: 10.13 minutes\n",
      "Epoch: 350/3000 | Loss: 0.0006 | Episodes: 14 | Win count: 306 | Win rate: 0.874 | time: 10.14 minutes\n",
      "Epoch: 351/3000 | Loss: 0.0005 | Episodes: 16 | Win count: 307 | Win rate: 0.875 | time: 10.16 minutes\n",
      "Epoch: 352/3000 | Loss: 0.0012 | Episodes: 32 | Win count: 308 | Win rate: 0.875 | time: 10.19 minutes\n",
      "Epoch: 353/3000 | Loss: 0.0017 | Episodes: 34 | Win count: 309 | Win rate: 0.875 | time: 10.21 minutes\n",
      "Epoch: 354/3000 | Loss: 0.0004 | Episodes: 15 | Win count: 310 | Win rate: 0.876 | time: 10.22 minutes\n",
      "Epoch: 355/3000 | Loss: 0.0012 | Episodes: 17 | Win count: 311 | Win rate: 0.876 | time: 10.23 minutes\n",
      "Epoch: 356/3000 | Loss: 0.0002 | Episodes: 23 | Win count: 312 | Win rate: 0.876 | time: 10.25 minutes\n",
      "Epoch: 357/3000 | Loss: 0.0001 | Episodes: 24 | Win count: 313 | Win rate: 0.877 | time: 10.27 minutes\n",
      "Epoch: 358/3000 | Loss: 0.0002 | Episodes: 41 | Win count: 314 | Win rate: 0.877 | time: 10.31 minutes\n",
      "Epoch: 359/3000 | Loss: 0.0017 | Episodes: 18 | Win count: 315 | Win rate: 0.877 | time: 10.33 minutes\n",
      "Epoch: 360/3000 | Loss: 0.0003 | Episodes: 18 | Win count: 316 | Win rate: 0.878 | time: 10.35 minutes\n",
      "Epoch: 361/3000 | Loss: 0.0009 | Episodes: 21 | Win count: 317 | Win rate: 0.878 | time: 10.37 minutes\n",
      "Epoch: 362/3000 | Loss: 0.0005 | Episodes: 27 | Win count: 318 | Win rate: 0.878 | time: 10.39 minutes\n",
      "Epoch: 363/3000 | Loss: 0.0005 | Episodes: 11 | Win count: 319 | Win rate: 0.879 | time: 10.41 minutes\n",
      "Epoch: 364/3000 | Loss: 0.0009 | Episodes: 17 | Win count: 320 | Win rate: 0.879 | time: 10.43 minutes\n",
      "Epoch: 365/3000 | Loss: 0.0005 | Episodes: 25 | Win count: 321 | Win rate: 0.879 | time: 10.45 minutes\n",
      "Epoch: 366/3000 | Loss: 0.0003 | Episodes: 6 | Win count: 322 | Win rate: 0.880 | time: 10.45 minutes\n",
      "Epoch: 367/3000 | Loss: 0.0007 | Episodes: 8 | Win count: 323 | Win rate: 0.880 | time: 10.47 minutes\n",
      "Epoch: 368/3000 | Loss: 0.0011 | Episodes: 69 | Win count: 324 | Win rate: 0.880 | time: 10.52 minutes\n",
      "Epoch: 369/3000 | Loss: 0.0005 | Episodes: 68 | Win count: 325 | Win rate: 0.881 | time: 10.57 minutes\n",
      "Epoch: 370/3000 | Loss: 0.0014 | Episodes: 7 | Win count: 326 | Win rate: 0.881 | time: 10.59 minutes\n",
      "Epoch: 371/3000 | Loss: 0.0008 | Episodes: 8 | Win count: 327 | Win rate: 0.881 | time: 10.61 minutes\n",
      "Epoch: 372/3000 | Loss: 0.0002 | Episodes: 31 | Win count: 328 | Win rate: 0.882 | time: 10.64 minutes\n",
      "Epoch: 373/3000 | Loss: 0.0005 | Episodes: 23 | Win count: 329 | Win rate: 0.882 | time: 10.66 minutes\n",
      "Epoch: 374/3000 | Loss: 0.0005 | Episodes: 4 | Win count: 330 | Win rate: 0.882 | time: 10.68 minutes\n",
      "Epoch: 375/3000 | Loss: 0.0002 | Episodes: 28 | Win count: 331 | Win rate: 0.883 | time: 10.71 minutes\n",
      "Epoch: 376/3000 | Loss: 0.0004 | Episodes: 38 | Win count: 332 | Win rate: 0.883 | time: 10.73 minutes\n",
      "Epoch: 377/3000 | Loss: 0.0003 | Episodes: 49 | Win count: 333 | Win rate: 0.883 | time: 10.76 minutes\n",
      "Epoch: 378/3000 | Loss: 0.0004 | Episodes: 9 | Win count: 334 | Win rate: 0.884 | time: 10.77 minutes\n",
      "Epoch: 379/3000 | Loss: 0.0005 | Episodes: 33 | Win count: 335 | Win rate: 0.884 | time: 10.79 minutes\n",
      "Epoch: 380/3000 | Loss: 0.0004 | Episodes: 9 | Win count: 336 | Win rate: 0.884 | time: 10.82 minutes\n",
      "Epoch: 381/3000 | Loss: 0.0009 | Episodes: 4 | Win count: 337 | Win rate: 0.885 | time: 10.84 minutes\n",
      "Epoch: 382/3000 | Loss: 0.0004 | Episodes: 8 | Win count: 338 | Win rate: 0.885 | time: 10.86 minutes\n",
      "Epoch: 383/3000 | Loss: 0.0002 | Episodes: 26 | Win count: 339 | Win rate: 0.885 | time: 10.88 minutes\n",
      "Epoch: 384/3000 | Loss: 0.0010 | Episodes: 21 | Win count: 340 | Win rate: 0.885 | time: 10.90 minutes\n",
      "Epoch: 385/3000 | Loss: 0.0006 | Episodes: 8 | Win count: 341 | Win rate: 0.886 | time: 10.91 minutes\n",
      "Epoch: 386/3000 | Loss: 0.0001 | Episodes: 6 | Win count: 342 | Win rate: 0.886 | time: 10.91 minutes\n",
      "Epoch: 387/3000 | Loss: 0.0016 | Episodes: 28 | Win count: 343 | Win rate: 0.886 | time: 10.93 minutes\n",
      "Epoch: 388/3000 | Loss: 0.0002 | Episodes: 49 | Win count: 344 | Win rate: 0.887 | time: 10.96 minutes\n",
      "Epoch: 389/3000 | Loss: 0.0011 | Episodes: 21 | Win count: 345 | Win rate: 0.887 | time: 10.97 minutes\n",
      "Epoch: 390/3000 | Loss: 0.0002 | Episodes: 9 | Win count: 346 | Win rate: 0.887 | time: 10.99 minutes\n",
      "Epoch: 391/3000 | Loss: 0.0006 | Episodes: 9 | Win count: 347 | Win rate: 0.887 | time: 11.00 minutes\n",
      "Epoch: 392/3000 | Loss: 0.0001 | Episodes: 2 | Win count: 348 | Win rate: 0.888 | time: 11.00 minutes\n",
      "Epoch: 393/3000 | Loss: 0.0006 | Episodes: 26 | Win count: 349 | Win rate: 0.888 | time: 11.02 minutes\n",
      "Epoch: 394/3000 | Loss: 0.0004 | Episodes: 21 | Win count: 350 | Win rate: 0.888 | time: 11.04 minutes\n",
      "Epoch: 395/3000 | Loss: 0.0000 | Episodes: 14 | Win count: 351 | Win rate: 0.889 | time: 11.06 minutes\n",
      "Epoch: 396/3000 | Loss: 0.0002 | Episodes: 41 | Win count: 352 | Win rate: 0.889 | time: 11.09 minutes\n",
      "Epoch: 397/3000 | Loss: 0.0006 | Episodes: 28 | Win count: 353 | Win rate: 0.889 | time: 11.12 minutes\n",
      "Epoch: 398/3000 | Loss: 0.0004 | Episodes: 28 | Win count: 354 | Win rate: 0.889 | time: 11.14 minutes\n",
      "Epoch: 399/3000 | Loss: 0.0008 | Episodes: 15 | Win count: 355 | Win rate: 0.890 | time: 11.16 minutes\n",
      "Epoch: 400/3000 | Loss: 0.0006 | Episodes: 27 | Win count: 356 | Win rate: 0.890 | time: 11.18 minutes\n",
      "Epoch: 401/3000 | Loss: 0.0010 | Episodes: 6 | Win count: 357 | Win rate: 0.890 | time: 11.21 minutes\n",
      "Epoch: 402/3000 | Loss: 0.0001 | Episodes: 10 | Win count: 358 | Win rate: 0.891 | time: 11.23 minutes\n",
      "Epoch: 403/3000 | Loss: 0.0002 | Episodes: 8 | Win count: 359 | Win rate: 0.891 | time: 11.25 minutes\n",
      "Epoch: 404/3000 | Loss: 0.0003 | Episodes: 21 | Win count: 360 | Win rate: 0.891 | time: 11.28 minutes\n",
      "Epoch: 405/3000 | Loss: 0.0003 | Episodes: 28 | Win count: 361 | Win rate: 0.891 | time: 11.31 minutes\n",
      "Epoch: 406/3000 | Loss: 0.0004 | Episodes: 22 | Win count: 362 | Win rate: 0.892 | time: 11.35 minutes\n",
      "Epoch: 407/3000 | Loss: 0.0009 | Episodes: 3 | Win count: 363 | Win rate: 0.892 | time: 11.36 minutes\n",
      "Epoch: 408/3000 | Loss: 0.0009 | Episodes: 29 | Win count: 364 | Win rate: 0.892 | time: 11.38 minutes\n",
      "Epoch: 409/3000 | Loss: 0.0002 | Episodes: 7 | Win count: 365 | Win rate: 0.892 | time: 11.38 minutes\n",
      "Epoch: 410/3000 | Loss: 0.0003 | Episodes: 31 | Win count: 366 | Win rate: 0.893 | time: 11.40 minutes\n",
      "Epoch: 411/3000 | Loss: 0.0018 | Episodes: 39 | Win count: 367 | Win rate: 0.893 | time: 11.43 minutes\n",
      "Epoch: 412/3000 | Loss: 0.0008 | Episodes: 21 | Win count: 368 | Win rate: 0.893 | time: 11.44 minutes\n",
      "Epoch: 413/3000 | Loss: 0.0003 | Episodes: 14 | Win count: 369 | Win rate: 0.893 | time: 11.45 minutes\n",
      "Epoch: 414/3000 | Loss: 0.0001 | Episodes: 19 | Win count: 370 | Win rate: 0.894 | time: 11.47 minutes\n",
      "Epoch: 415/3000 | Loss: 0.0003 | Episodes: 21 | Win count: 371 | Win rate: 0.894 | time: 11.50 minutes\n",
      "Epoch: 416/3000 | Loss: 0.0002 | Episodes: 26 | Win count: 372 | Win rate: 0.894 | time: 11.53 minutes\n",
      "Epoch: 417/3000 | Loss: 0.0007 | Episodes: 23 | Win count: 373 | Win rate: 0.894 | time: 11.54 minutes\n",
      "Epoch: 418/3000 | Loss: 0.0001 | Episodes: 23 | Win count: 374 | Win rate: 0.895 | time: 11.56 minutes\n",
      "Epoch: 419/3000 | Loss: 0.0011 | Episodes: 21 | Win count: 375 | Win rate: 0.895 | time: 11.57 minutes\n",
      "Epoch: 420/3000 | Loss: 0.0000 | Episodes: 26 | Win count: 376 | Win rate: 0.895 | time: 11.59 minutes\n",
      "Epoch: 421/3000 | Loss: 0.0013 | Episodes: 40 | Win count: 377 | Win rate: 0.895 | time: 11.62 minutes\n",
      "Epoch: 422/3000 | Loss: 0.0006 | Episodes: 3 | Win count: 378 | Win rate: 0.896 | time: 11.62 minutes\n",
      "Epoch: 423/3000 | Loss: 0.0015 | Episodes: 53 | Win count: 379 | Win rate: 0.896 | time: 11.66 minutes\n",
      "Epoch: 424/3000 | Loss: 0.0025 | Episodes: 27 | Win count: 380 | Win rate: 0.896 | time: 11.68 minutes\n",
      "Epoch: 425/3000 | Loss: 0.0011 | Episodes: 30 | Win count: 381 | Win rate: 0.896 | time: 11.69 minutes\n",
      "Epoch: 426/3000 | Loss: 0.0015 | Episodes: 27 | Win count: 382 | Win rate: 0.897 | time: 11.71 minutes\n",
      "Epoch: 427/3000 | Loss: 0.0006 | Episodes: 2 | Win count: 383 | Win rate: 0.897 | time: 11.72 minutes\n",
      "completion_check() success!\n",
      "Epoch: 428/3000 | Loss: 0.0004 | Episodes: 28 | Win count: 384 | Win rate: 0.897 | time: 11.75 minutes\n",
      "Reached 100% win rate at epoch: 427\n",
      "n_epoch: 427, max_mem: 512, data: 32, time: 11.76 minutes\n"
     ]
    },
    {
     "data": {
      "text/plain": [
       "705.71876"
      ]
     },
     "execution_count": 11,
     "metadata": {},
     "output_type": "execute_result"
    }
   ],
   "source": [
    "model = build_model(maze)\n",
    "qtrain(model, maze, epochs=1000, max_memory=8*maze.size, data_size=32)"
   ]
  },
  {
   "cell_type": "markdown",
   "metadata": {},
   "source": [
    "This cell will check to see if the model passes the completion check. Note: This could take several minutes."
   ]
  },
  {
   "cell_type": "code",
   "execution_count": 12,
   "metadata": {},
   "outputs": [
    {
     "data": {
      "text/plain": [
       "<matplotlib.image.AxesImage at 0x252a5616648>"
      ]
     },
     "execution_count": 12,
     "metadata": {},
     "output_type": "execute_result"
    },
    {
     "data": {
      "image/png": "[encoded data removed]",
      "text/plain": [
       "<Figure size 432x288 with 1 Axes>"
      ]
     },
     "metadata": {
      "needs_background": "light"
     },
     "output_type": "display_data"
    }
   ],
   "source": [
    "completion_check(model, qmaze)\n",
    "show(qmaze)"
   ]
  },
  {
   "cell_type": "markdown",
   "metadata": {},
   "source": [
    "This cell will test your model for one game. It will start the pirate at the top-left corner and run play_game. The agent should find a path from the starting position to the target (treasure). The treasure is located in the bottom-right corner."
   ]
  },
  {
   "cell_type": "code",
   "execution_count": 13,
   "metadata": {},
   "outputs": [
    {
     "data": {
      "text/plain": [
       "<matplotlib.image.AxesImage at 0x252a0c530c8>"
      ]
     },
     "execution_count": 13,
     "metadata": {},
     "output_type": "execute_result"
    },
    {
     "data": {
      "image/png": "[encoded data removed]",
      "text/plain": [
       "<Figure size 432x288 with 1 Axes>"
      ]
     },
     "metadata": {
      "needs_background": "light"
     },
     "output_type": "display_data"
    }
   ],
   "source": [
    "pirate_start = (0, 0)\n",
    "play_game(model, qmaze, pirate_start)\n",
    "show(qmaze)"
   ]
  },
  {
   "cell_type": "markdown",
   "metadata": {},
   "source": [
    "## Save and Submit Your Work\n",
    "After you have finished creating the code for your notebook, save your work. Make sure that your notebook contains your name in the filename (e.g. Doe_Jane_ProjectTwo.ipynb). This will help your instructor access and grade your work easily. Download a copy of your IPYNB file and submit it to Brightspace. Refer to the Jupyter Notebook in Apporto Tutorial if you need help with these tasks."
   ]
  }
 ],
 "metadata": {
  "kernelspec": {
   "display_name": "Python 3 (ipykernel)",
   "language": "python",
   "name": "python3"
  },
  "language_info": {
   "codemirror_mode": {
    "name": "ipython",
    "version": 3
   },
   "file_extension": ".py",
   "mimetype": "text/x-python",
   "name": "python",
   "nbconvert_exporter": "python",
   "pygments_lexer": "ipython3",
   "version": "3.9.0"
  }
 },
 "nbformat": 4,
 "nbformat_minor": 4
}
